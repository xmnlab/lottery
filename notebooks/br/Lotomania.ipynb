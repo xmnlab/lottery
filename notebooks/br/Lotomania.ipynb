{
 "cells": [
  {
   "cell_type": "markdown",
   "metadata": {},
   "source": [
    "# Lotomania"
   ]
  },
  {
   "cell_type": "markdown",
   "metadata": {},
   "source": [
    "## Informações\n",
    "\n",
    "### Como jogar\n",
    "A Lotomania é fácil de jogar e de ganhar: basta escolher 50 números e então concorrer a prêmios para acertos de 20, 19, 18, 17, 16, 15 ou nenhum número.\n",
    "Além da opção de marcar no volante, você ainda pode marcar menos que 50 números e deixar que o sistema complete o jogo para você; não marcar nada e deixar que o sistema escolha todos os números na Surpresinha e/ou concorrer com a mesma aposta por 2, 4 ou 8 concursos consecutivos com a Teimosinha. Outra opção é efetuar uma nova aposta com o sistema selecionando os outros 50 números não registrados no jogo original, através da Aposta-Espelho.\n",
    "\n",
    "### Apostas\n",
    "\n",
    "O preço da aposta é único e custa apenas R\\$ 1,50.\n",
    "\n",
    "### Sorteios\n",
    "\n",
    "Os sorteios são realizados às terças-feiras e às sextas-feiras, às 20h.\n",
    "\n",
    "### Premiação\n",
    "\n",
    "O prêmio bruto corresponde a 45,3\\% da arrecadação, já computado o adicional destinado ao Ministério do Esporte. Dessa porcentagem são distribuídos:\n",
    "- 45\\% entre os acertadores dos 20 números sorteados - 1ª faixa;\n",
    "- 16\\% entre os acertadores de 19 dos 20 números sorteados - 2ª faixa;\n",
    "- 10\\% entre os acertadores de 18 dos 20 números sorteados - 3ª faixa;\n",
    "- 7\\% entre os acertadores de 17 dos 20 números sorteados - 4ª faixa;\n",
    "- 7\\% entre os acertadores de 16 dos 20 números sorteados - 5ª faixa;\n",
    "- 7\\% entre os acertadores de 15 dos 20 números sorteados - 6ª faixa;\n",
    "- 8\\% entre os acertadores de nenhum dos 20 números sorteados - 7ª faixa;\n",
    "\n",
    "### Recebimento de prêmios\n",
    "\n",
    "Você pode receber seu prêmio em qualquer casa lotérica credenciada ou nas agências da Caixa. Caso o prêmio líquido seja superior a R\\$ 1.332,78 (bruto de R\\$ 1.903,98) o pagamento pode ser realizado somente nas agências da Caixa. Valores iguais ou acima de R\\$ 10.000,00 são pagos após 2 dias de sua apresentação na agência da Caixa.\n",
    "\n",
    "### Acumulação\n",
    "\n",
    "Não existindo aposta premiada na 7ª faixa (0 acerto), o prêmio acumula para o concurso subsequente, na 1ª faixa de premiação (20 acertos). Nas demais faixas, o prêmio acumula na respectiva faixa de premiação.\n",
    "\n",
    "### Tabela de preços\n",
    "\n",
    "|Aposta única|Valor em R\\$|\n",
    "|::|::|\n",
    "|50 números|1,50|\n",
    "\n",
    "###  Probabilidade\n",
    "\n",
    "|Faixas|Probabilidade|\n",
    "|::|::|\n",
    "|20 números|1/11.372.635|\n",
    "|19 números|1/352.551|\n",
    "|18 números|1/24.235|\n",
    "|17 números|1/2.776|\n",
    "|16 números|1/472|\n",
    "|15 números|1/112|\n",
    "|00 números|1/11.372.635|\n"
   ]
  },
  {
   "cell_type": "code",
   "execution_count": 1,
   "metadata": {},
   "outputs": [],
   "source": [
    "from matplotlib import pyplot as plt\n",
    "\n",
    "# local\n",
    "from lottery.strategy import LoteryStrategyBase\n",
    "\n",
    "import pandas as pd\n",
    "import numpy as np\n",
    "import random"
   ]
  },
  {
   "cell_type": "markdown",
   "metadata": {},
   "source": [
    "## Data Cleaning"
   ]
  },
  {
   "cell_type": "code",
   "execution_count": 2,
   "metadata": {},
   "outputs": [
    {
     "name": "stdout",
     "output_type": "stream",
     "text": [
      "<class 'pandas.core.frame.DataFrame'>\n",
      "RangeIndex: 1835 entries, 0 to 1834\n",
      "Data columns (total 22 columns):\n",
      "id      1835 non-null int64\n",
      "date    1835 non-null object\n",
      "0       1835 non-null int64\n",
      "1       1835 non-null int64\n",
      "2       1835 non-null int64\n",
      "3       1835 non-null int64\n",
      "4       1835 non-null int64\n",
      "5       1835 non-null int64\n",
      "6       1835 non-null int64\n",
      "7       1835 non-null int64\n",
      "8       1835 non-null int64\n",
      "9       1835 non-null int64\n",
      "10      1835 non-null int64\n",
      "11      1835 non-null int64\n",
      "12      1835 non-null int64\n",
      "13      1835 non-null int64\n",
      "14      1835 non-null int64\n",
      "15      1835 non-null int64\n",
      "16      1835 non-null int64\n",
      "17      1835 non-null int64\n",
      "18      1835 non-null int64\n",
      "19      1835 non-null int64\n",
      "dtypes: int64(21), object(1)\n",
      "memory usage: 315.5+ KB\n"
     ]
    }
   ],
   "source": [
    "data_path = 'data/lotomania.txt'\n",
    "df = pd.read_csv(\n",
    "    data_path, names=['id', 'date'] + list(range(20))\n",
    ").drop_duplicates().sort_values('id').reset_index(drop=True)\n",
    "df.info() "
   ]
  },
  {
   "cell_type": "code",
   "execution_count": 3,
   "metadata": {},
   "outputs": [
    {
     "data": {
      "text/html": [
       "<div>\n",
       "<style scoped>\n",
       "    .dataframe tbody tr th:only-of-type {\n",
       "        vertical-align: middle;\n",
       "    }\n",
       "\n",
       "    .dataframe tbody tr th {\n",
       "        vertical-align: top;\n",
       "    }\n",
       "\n",
       "    .dataframe thead th {\n",
       "        text-align: right;\n",
       "    }\n",
       "</style>\n",
       "<table border=\"1\" class=\"dataframe\">\n",
       "  <thead>\n",
       "    <tr style=\"text-align: right;\">\n",
       "      <th></th>\n",
       "      <th>id</th>\n",
       "      <th>date</th>\n",
       "      <th>0</th>\n",
       "      <th>1</th>\n",
       "      <th>2</th>\n",
       "      <th>3</th>\n",
       "      <th>4</th>\n",
       "      <th>5</th>\n",
       "      <th>6</th>\n",
       "      <th>7</th>\n",
       "      <th>...</th>\n",
       "      <th>10</th>\n",
       "      <th>11</th>\n",
       "      <th>12</th>\n",
       "      <th>13</th>\n",
       "      <th>14</th>\n",
       "      <th>15</th>\n",
       "      <th>16</th>\n",
       "      <th>17</th>\n",
       "      <th>18</th>\n",
       "      <th>19</th>\n",
       "    </tr>\n",
       "  </thead>\n",
       "  <tbody>\n",
       "    <tr>\n",
       "      <th>1830</th>\n",
       "      <td>1831</td>\n",
       "      <td>12-01-2018</td>\n",
       "      <td>1</td>\n",
       "      <td>3</td>\n",
       "      <td>5</td>\n",
       "      <td>6</td>\n",
       "      <td>9</td>\n",
       "      <td>11</td>\n",
       "      <td>26</td>\n",
       "      <td>29</td>\n",
       "      <td>...</td>\n",
       "      <td>53</td>\n",
       "      <td>54</td>\n",
       "      <td>62</td>\n",
       "      <td>63</td>\n",
       "      <td>66</td>\n",
       "      <td>70</td>\n",
       "      <td>79</td>\n",
       "      <td>80</td>\n",
       "      <td>87</td>\n",
       "      <td>91</td>\n",
       "    </tr>\n",
       "    <tr>\n",
       "      <th>1831</th>\n",
       "      <td>1832</td>\n",
       "      <td>16-01-2018</td>\n",
       "      <td>2</td>\n",
       "      <td>20</td>\n",
       "      <td>25</td>\n",
       "      <td>36</td>\n",
       "      <td>39</td>\n",
       "      <td>47</td>\n",
       "      <td>49</td>\n",
       "      <td>50</td>\n",
       "      <td>...</td>\n",
       "      <td>70</td>\n",
       "      <td>75</td>\n",
       "      <td>76</td>\n",
       "      <td>77</td>\n",
       "      <td>79</td>\n",
       "      <td>80</td>\n",
       "      <td>83</td>\n",
       "      <td>90</td>\n",
       "      <td>93</td>\n",
       "      <td>95</td>\n",
       "    </tr>\n",
       "    <tr>\n",
       "      <th>1832</th>\n",
       "      <td>1833</td>\n",
       "      <td>19-01-2018</td>\n",
       "      <td>1</td>\n",
       "      <td>5</td>\n",
       "      <td>7</td>\n",
       "      <td>15</td>\n",
       "      <td>16</td>\n",
       "      <td>20</td>\n",
       "      <td>25</td>\n",
       "      <td>36</td>\n",
       "      <td>...</td>\n",
       "      <td>57</td>\n",
       "      <td>58</td>\n",
       "      <td>76</td>\n",
       "      <td>77</td>\n",
       "      <td>78</td>\n",
       "      <td>80</td>\n",
       "      <td>82</td>\n",
       "      <td>85</td>\n",
       "      <td>88</td>\n",
       "      <td>93</td>\n",
       "    </tr>\n",
       "    <tr>\n",
       "      <th>1833</th>\n",
       "      <td>1834</td>\n",
       "      <td>23-01-2018</td>\n",
       "      <td>1</td>\n",
       "      <td>6</td>\n",
       "      <td>22</td>\n",
       "      <td>23</td>\n",
       "      <td>24</td>\n",
       "      <td>35</td>\n",
       "      <td>36</td>\n",
       "      <td>37</td>\n",
       "      <td>...</td>\n",
       "      <td>55</td>\n",
       "      <td>58</td>\n",
       "      <td>61</td>\n",
       "      <td>68</td>\n",
       "      <td>71</td>\n",
       "      <td>77</td>\n",
       "      <td>79</td>\n",
       "      <td>81</td>\n",
       "      <td>93</td>\n",
       "      <td>94</td>\n",
       "    </tr>\n",
       "    <tr>\n",
       "      <th>1834</th>\n",
       "      <td>1835</td>\n",
       "      <td>26-01-2018</td>\n",
       "      <td>1</td>\n",
       "      <td>4</td>\n",
       "      <td>9</td>\n",
       "      <td>15</td>\n",
       "      <td>17</td>\n",
       "      <td>18</td>\n",
       "      <td>20</td>\n",
       "      <td>27</td>\n",
       "      <td>...</td>\n",
       "      <td>62</td>\n",
       "      <td>67</td>\n",
       "      <td>68</td>\n",
       "      <td>70</td>\n",
       "      <td>74</td>\n",
       "      <td>79</td>\n",
       "      <td>84</td>\n",
       "      <td>93</td>\n",
       "      <td>94</td>\n",
       "      <td>99</td>\n",
       "    </tr>\n",
       "  </tbody>\n",
       "</table>\n",
       "<p>5 rows × 22 columns</p>\n",
       "</div>"
      ],
      "text/plain": [
       "        id        date  0   1   2   3   4   5   6   7 ...  10  11  12  13  14  \\\n",
       "1830  1831  12-01-2018  1   3   5   6   9  11  26  29 ...  53  54  62  63  66   \n",
       "1831  1832  16-01-2018  2  20  25  36  39  47  49  50 ...  70  75  76  77  79   \n",
       "1832  1833  19-01-2018  1   5   7  15  16  20  25  36 ...  57  58  76  77  78   \n",
       "1833  1834  23-01-2018  1   6  22  23  24  35  36  37 ...  55  58  61  68  71   \n",
       "1834  1835  26-01-2018  1   4   9  15  17  18  20  27 ...  62  67  68  70  74   \n",
       "\n",
       "      15  16  17  18  19  \n",
       "1830  70  79  80  87  91  \n",
       "1831  80  83  90  93  95  \n",
       "1832  80  82  85  88  93  \n",
       "1833  77  79  81  93  94  \n",
       "1834  79  84  93  94  99  \n",
       "\n",
       "[5 rows x 22 columns]"
      ]
     },
     "execution_count": 3,
     "metadata": {},
     "output_type": "execute_result"
    }
   ],
   "source": [
    "df.tail()"
   ]
  },
  {
   "cell_type": "markdown",
   "metadata": {},
   "source": [
    "## Strategies"
   ]
  },
  {
   "cell_type": "code",
   "execution_count": 4,
   "metadata": {},
   "outputs": [],
   "source": [
    "class HighFrequencyStrategy(LoteryStrategyBase):\n",
    "    \"\"\"\n",
    "    \n",
    "    \"\"\"\n",
    "    def pick_numbers(self, df_train: pd.DataFrame=None) -> [int]:\n",
    "        \"\"\"\n",
    "        Pick number for the next game\n",
    "        \n",
    "        :param df_train: dataframe with training data\n",
    "        :return: list of numbers\n",
    "        \"\"\"\n",
    "        if df_train is None:\n",
    "            df_train = self.data[self.k_results]\n",
    "            \n",
    "        values_train = pd.Series(df_train.values.flatten())\n",
    "        se_choice = values_train.value_counts()[:self.n_choices]\n",
    "        \n",
    "        return sorted(se_choice.index.values.tolist())"
   ]
  },
  {
   "cell_type": "code",
   "execution_count": 5,
   "metadata": {},
   "outputs": [],
   "source": [
    "class LowFrequencyStrategy(LoteryStrategyBase):\n",
    "    \"\"\"\n",
    "    \n",
    "    \"\"\"\n",
    "    def pick_numbers(self, df_train: pd.DataFrame=None) -> [int]:\n",
    "        \"\"\"\n",
    "        Pick number for the next game\n",
    "        \n",
    "        :param df_train: dataframe with training data\n",
    "        :return: list of numbers\n",
    "        \"\"\"\n",
    "        if df_train is None:\n",
    "            df_train = self.data[self.k_results]\n",
    "        \n",
    "        values_train = pd.Series(df_train.values.flatten())\n",
    "        se_choice = values_train.value_counts()[-self.n_choices:]\n",
    "        \n",
    "        return sorted(se_choice.index.values.tolist())"
   ]
  },
  {
   "cell_type": "code",
   "execution_count": 6,
   "metadata": {},
   "outputs": [],
   "source": [
    "class MedianFrequencyStrategy(LoteryStrategyBase):\n",
    "    def pick_numbers(self, df_train: pd.DataFrame=None) -> [int]:\n",
    "        \"\"\"\n",
    "        Pick number for the next game\n",
    "        \n",
    "        :param df_train: dataframe with training data\n",
    "        :return: list of numbers\n",
    "        \"\"\"\n",
    "        if df_train is None:\n",
    "            df_train = self.data[self.k_results]\n",
    "\n",
    "        values_train = pd.Series(df_train.values.flatten())\n",
    "        se_choice = values_train.value_counts()\n",
    "        i = int((se_choice.size - self.n_choices)/2)\n",
    "        se_choice = se_choice[i:i+self.n_choices]\n",
    "        \n",
    "        return sorted(se_choice.index.values.tolist())"
   ]
  },
  {
   "cell_type": "code",
   "execution_count": 7,
   "metadata": {},
   "outputs": [],
   "source": [
    "class RandomStrategy(LoteryStrategyBase):\n",
    "    def pick_numbers(self, df_train: pd.DataFrame=None) -> [int]:\n",
    "        \"\"\"\n",
    "        Pick number for the next game\n",
    "        \n",
    "        :param df_train: dataframe with training data\n",
    "        :return: list of numbers\n",
    "        \"\"\"\n",
    "        return sorted(\n",
    "            random.sample(range(self.vmin, self.vmax), self.n_choices)\n",
    "        )"
   ]
  },
  {
   "cell_type": "code",
   "execution_count": 8,
   "metadata": {},
   "outputs": [],
   "source": [
    "class PickedMatchedLast3Strategy(LoteryStrategyBase):\n",
    "    def pick_numbers(self, df_train: pd.DataFrame=None) -> [int]:\n",
    "        \"\"\"\n",
    "        Pick number for the next game\n",
    "        \n",
    "        :param df_train: dataframe with training data\n",
    "        :return: list of numbers\n",
    "        \"\"\"\n",
    "        if df_train is None:\n",
    "            df_train = self.data[self.k_results]\n",
    "\n",
    "        \n",
    "        se_last = (\n",
    "            df_train.tail(1).values.flatten().tolist(),\n",
    "            df_train.tail(2).head(1).values.flatten().tolist(),\n",
    "            df_train.tail(3).head(1).values.flatten().tolist()\n",
    "        )\n",
    "\n",
    "        # number frequency\n",
    "        se_counts = pd.Series(df_train.values.flatten()).value_counts()\n",
    "        se_counts.name = 'counts'\n",
    "        df_counts = pd.DataFrame(se_counts).reset_index().rename(\n",
    "            columns={'index': 'num'}\n",
    "        )\n",
    "\n",
    "        choice = se_counts[:50].index.tolist()\n",
    "\n",
    "        # comparison between last 3 results\n",
    "        matched = (\n",
    "            set(se_last[0]) & set(se_last[1]),\n",
    "            set(se_last[1]) & set(se_last[2]),\n",
    "            set(se_last[0]) & set(se_last[2])\n",
    "        )\n",
    "\n",
    "        matched_joined = matched[0] | matched[1] | matched[2]\n",
    "\n",
    "        choice = sorted(se_counts.index.tolist())\n",
    "\n",
    "        # remove the matched number from the las 3 results\n",
    "        for i in matched_joined:\n",
    "            choice.pop(choice.index(i))\n",
    "\n",
    "        return choice[-50:]\n",
    "    "
   ]
  },
  {
   "cell_type": "code",
   "execution_count": 9,
   "metadata": {},
   "outputs": [],
   "source": [
    "class MixSimpleStrategy(LoteryStrategyBase):\n",
    "    strategies = None  # list\n",
    "    \n",
    "    def __init__(self, *args, strategies: list, **kwargs):\n",
    "        # should be informed more than 1 strategy class\n",
    "        assert len(strategies) > 1\n",
    "        \n",
    "        self.strategies = [\n",
    "            s(*args, **kwargs) for s in strategies\n",
    "        ]\n",
    "        \n",
    "        super().__init__(*args, **kwargs)\n",
    "        \n",
    "    def pick_numbers(self, df_train: pd.DataFrame=None) -> [int]:\n",
    "        \"\"\"\n",
    "        Pick number for the next game\n",
    "        \n",
    "        :param df_train: dataframe with training data\n",
    "        :return: list of numbers\n",
    "        \"\"\"\n",
    "        results = [\n",
    "            s.pick_numbers(df_train) for s in self.strategies\n",
    "        ]\n",
    "        \n",
    "        final_numbers_raw = None\n",
    "        \n",
    "        for i in range(len(results)-1):\n",
    "            for j in range(i, len(results)):\n",
    "                nums = set(results[i]) & set(results[j])\n",
    "                if final_numbers_raw is None:\n",
    "                    final_numbers_raw = nums\n",
    "                else:\n",
    "                    final_numbers_raw = final_numbers_raw | nums\n",
    "        \n",
    "        final_numbers = list(final_numbers_raw)[:self.n_choices]\n",
    "        \n",
    "        # assert number of numbers picked\n",
    "        assert len(final_numbers) == self.n_choices\n",
    "        \n",
    "        return final_numbers"
   ]
  },
  {
   "cell_type": "code",
   "execution_count": 10,
   "metadata": {},
   "outputs": [],
   "source": [
    "lotomania_settings = dict(\n",
    "    n_picked=20,\n",
    "    n_choices=50,\n",
    "    vmin=0,\n",
    "    vmax=99,\n",
    "    n_train=10,\n",
    "    hits_to_win=(0, 15, 16, 17, 18, 19, 20)\n",
    ")\n",
    "n_samples = 1000\n",
    "next_game_numbers = []"
   ]
  },
  {
   "cell_type": "markdown",
   "metadata": {},
   "source": [
    "### Test High Frequency Strategy"
   ]
  },
  {
   "cell_type": "code",
   "execution_count": 11,
   "metadata": {
    "scrolled": false
   },
   "outputs": [
    {
     "name": "stdout",
     "output_type": "stream",
     "text": [
      "Win results:  8/990 (0.8080808080808081 %)\n",
      "Next choice: [0, 1, 2, 3, 4, 6, 8, 9, 15, 16, 17, 19, 21, 26, 29, 31, 35, 36, 37, 38, 39, 40, 41, 43, 44, 45, 47, 48, 49, 53, 54, 55, 58, 60, 63, 66, 67, 70, 73, 74, 76, 77, 78, 79, 80, 82, 85, 87, 92, 93]\n",
      "          results\n",
      "count  990.000000\n",
      "mean     9.966667\n",
      "std      2.030082\n",
      "min      4.000000\n",
      "25%      9.000000\n",
      "50%     10.000000\n",
      "75%     11.000000\n",
      "max     16.000000\n"
     ]
    },
    {
     "data": {
      "image/png": "[encoded data removed]",
      "text/plain": [
       "<matplotlib.figure.Figure at 0x7f41e1677320>"
      ]
     },
     "metadata": {},
     "output_type": "display_data"
    }
   ],
   "source": [
    "model = HighFrequencyStrategy(data=df.tail(n_samples), **lotomania_settings)\n",
    "\n",
    "print('Win results: ', model.win_results())\n",
    "print('Next choice:', model.pick_numbers())\n",
    "\n",
    "model.stats()\n",
    "model.plot_stats()"
   ]
  },
  {
   "cell_type": "markdown",
   "metadata": {},
   "source": [
    "### Test Low Frequency Strategy"
   ]
  },
  {
   "cell_type": "code",
   "execution_count": 12,
   "metadata": {},
   "outputs": [
    {
     "name": "stdout",
     "output_type": "stream",
     "text": [
      "Win results:  14/990 (1.4141414141414141 %)\n",
      "Next choice: [5, 7, 10, 11, 12, 13, 14, 18, 20, 22, 23, 24, 25, 27, 28, 30, 32, 33, 34, 42, 46, 50, 51, 52, 56, 57, 59, 61, 62, 64, 65, 68, 69, 71, 72, 75, 81, 83, 84, 86, 88, 89, 90, 91, 94, 95, 96, 97, 98, 99]\n",
      "          results\n",
      "count  990.000000\n",
      "mean     9.902020\n",
      "std      2.083567\n",
      "min      3.000000\n",
      "25%      8.000000\n",
      "50%     10.000000\n",
      "75%     11.000000\n",
      "max     17.000000\n"
     ]
    },
    {
     "data": {
      "image/png": "[encoded data removed]",
      "text/plain": [
       "<matplotlib.figure.Figure at 0x7f41df57bf60>"
      ]
     },
     "metadata": {},
     "output_type": "display_data"
    }
   ],
   "source": [
    "model = LowFrequencyStrategy(data=df.tail(n_samples), **lotomania_settings)\n",
    "\n",
    "print('Win results: ', model.win_results())\n",
    "print('Next choice:', model.pick_numbers())\n",
    "\n",
    "model.stats()\n",
    "model.plot_stats()"
   ]
  },
  {
   "cell_type": "markdown",
   "metadata": {},
   "source": [
    "### Test Median Frequency"
   ]
  },
  {
   "cell_type": "code",
   "execution_count": 13,
   "metadata": {},
   "outputs": [
    {
     "name": "stdout",
     "output_type": "stream",
     "text": [
      "Win results:  11/990 (1.1111111111111112 %)\n",
      "Next choice: [0, 1, 7, 9, 10, 11, 18, 19, 20, 21, 23, 24, 27, 28, 30, 35, 36, 37, 38, 39, 42, 44, 45, 46, 47, 48, 50, 53, 55, 57, 60, 63, 64, 65, 67, 68, 69, 74, 76, 78, 80, 81, 82, 83, 86, 90, 91, 92, 95, 97]\n",
      "          results\n",
      "count  990.000000\n",
      "mean     9.922222\n",
      "std      2.029363\n",
      "min      3.000000\n",
      "25%      9.000000\n",
      "50%     10.000000\n",
      "75%     11.000000\n",
      "max     15.000000\n"
     ]
    },
    {
     "data": {
      "image/png": "[encoded data removed]",
      "text/plain": [
       "<matplotlib.figure.Figure at 0x7f41df4a7b00>"
      ]
     },
     "metadata": {},
     "output_type": "display_data"
    }
   ],
   "source": [
    "model = MedianFrequencyStrategy(data=df.tail(n_samples), **lotomania_settings)\n",
    "\n",
    "print('Win results: ', model.win_results())\n",
    "print('Next choice:', model.pick_numbers())\n",
    "\n",
    "model.stats()\n",
    "model.plot_stats()"
   ]
  },
  {
   "cell_type": "markdown",
   "metadata": {},
   "source": [
    "### Test Picked Matched Last 3 Strategy"
   ]
  },
  {
   "cell_type": "code",
   "execution_count": 14,
   "metadata": {},
   "outputs": [
    {
     "name": "stdout",
     "output_type": "stream",
     "text": [
      "Win results:  13/990 (1.3131313131313131 %)\n",
      "Next choice: [42, 43, 44, 45, 46, 47, 48, 49, 50, 51, 52, 54, 56, 57, 59, 60, 61, 62, 63, 64, 65, 66, 67, 69, 70, 71, 72, 73, 74, 75, 76, 78, 80, 81, 82, 83, 84, 85, 86, 87, 88, 89, 90, 91, 92, 95, 96, 97, 98, 99]\n",
      "          results\n",
      "count  990.000000\n",
      "mean     9.821212\n",
      "std      1.974907\n",
      "min      4.000000\n",
      "25%      8.250000\n",
      "50%     10.000000\n",
      "75%     11.000000\n",
      "max     16.000000\n"
     ]
    },
    {
     "data": {
      "image/png": "[encoded data removed]",
      "text/plain": [
       "<matplotlib.figure.Figure at 0x7f41df5a0048>"
      ]
     },
     "metadata": {},
     "output_type": "display_data"
    }
   ],
   "source": [
    "model = PickedMatchedLast3Strategy(data=df.tail(n_samples), **lotomania_settings)\n",
    "\n",
    "print('Win results: ', model.win_results())\n",
    "print('Next choice:', model.pick_numbers())\n",
    "\n",
    "model.stats()\n",
    "model.plot_stats()"
   ]
  },
  {
   "cell_type": "markdown",
   "metadata": {},
   "source": [
    "### Mix Simples Strategy"
   ]
  },
  {
   "cell_type": "code",
   "execution_count": 15,
   "metadata": {},
   "outputs": [
    {
     "name": "stdout",
     "output_type": "stream",
     "text": [
      "Win results:  13/990 (1.3131313131313131 %)\n",
      "Next choice: [0, 1, 5, 7, 9, 10, 11, 12, 13, 14, 18, 19, 20, 21, 22, 23, 24, 25, 27, 28, 30, 32, 33, 34, 35, 36, 37, 38, 39, 42, 44, 45, 46, 47, 48, 50, 51, 52, 53, 55, 56, 57, 59, 60, 61, 62, 63, 64, 65, 67]\n",
      "          results\n",
      "count  990.000000\n",
      "mean    10.011111\n",
      "std      2.051628\n",
      "min      3.000000\n",
      "25%      9.000000\n",
      "50%     10.000000\n",
      "75%     11.000000\n",
      "max     16.000000\n"
     ]
    },
    {
     "data": {
      "image/png": "[encoded data removed]",
      "text/plain": [
       "<matplotlib.figure.Figure at 0x7f41df5edfd0>"
      ]
     },
     "metadata": {},
     "output_type": "display_data"
    }
   ],
   "source": [
    "model = MixSimpleStrategy(\n",
    "    data=df.tail(n_samples), \n",
    "    strategies=[\n",
    "        LowFrequencyStrategy, \n",
    "        MedianFrequencyStrategy, \n",
    "        PickedMatchedLast3Strategy\n",
    "    ], **lotomania_settings\n",
    ")\n",
    "\n",
    "print('Win results: ', model.win_results())\n",
    "print('Next choice:', model.pick_numbers())\n",
    "\n",
    "model.stats()\n",
    "model.plot_stats()"
   ]
  },
  {
   "cell_type": "markdown",
   "metadata": {},
   "source": [
    "### Random Strategy"
   ]
  },
  {
   "cell_type": "code",
   "execution_count": 16,
   "metadata": {},
   "outputs": [
    {
     "name": "stdout",
     "output_type": "stream",
     "text": [
      "Win results:  11/990 (1.1111111111111112 %)\n",
      "Next choice: [2, 6, 10, 11, 12, 13, 16, 18, 19, 21, 23, 27, 28, 29, 31, 32, 36, 39, 41, 42, 43, 44, 45, 46, 47, 50, 51, 52, 56, 57, 59, 63, 64, 65, 68, 69, 70, 72, 74, 77, 82, 84, 85, 88, 89, 90, 93, 95, 97, 98]\n",
      "          results\n",
      "count  990.000000\n",
      "mean     9.939394\n",
      "std      2.002618\n",
      "min      4.000000\n",
      "25%      9.000000\n",
      "50%     10.000000\n",
      "75%     11.000000\n",
      "max     17.000000\n"
     ]
    },
    {
     "data": {
      "image/png": "[encoded data removed]",
      "text/plain": [
       "<matplotlib.figure.Figure at 0x7f41df495cf8>"
      ]
     },
     "metadata": {},
     "output_type": "display_data"
    }
   ],
   "source": [
    "model = RandomStrategy(data=df.tail(n_samples), **lotomania_settings)\n",
    "\n",
    "print('Win results: ', model.win_results())\n",
    "print('Next choice:', model.pick_numbers())\n",
    "\n",
    "model.stats()\n",
    "model.plot_stats()"
   ]
  }
 ],
 "metadata": {
  "kernelspec": {
   "display_name": "Python 3",
   "language": "python",
   "name": "python3"
  },
  "language_info": {
   "codemirror_mode": {
    "name": "ipython",
    "version": 3
   },
   "file_extension": ".py",
   "mimetype": "text/x-python",
   "name": "python",
   "nbconvert_exporter": "python",
   "pygments_lexer": "ipython3",
   "version": "3.6.4"
  },
  "toc": {
   "nav_menu": {},
   "number_sections": true,
   "sideBar": true,
   "skip_h1_title": true,
   "toc_cell": false,
   "toc_position": {},
   "toc_section_display": "block",
   "toc_window_display": false
  }
 },
 "nbformat": 4,
 "nbformat_minor": 2
}
